{
  "nbformat": 4,
  "nbformat_minor": 0,
  "metadata": {
    "colab": {
      "provenance": []
    },
    "kernelspec": {
      "name": "python3",
      "display_name": "Python 3"
    },
    "language_info": {
      "name": "python"
    }
  },
  "cells": [
    {
      "cell_type": "code",
      "execution_count": 8,
      "metadata": {
        "colab": {
          "base_uri": "https://localhost:8080/"
        },
        "id": "Kj5Gk8qGUSTc",
        "outputId": "cd5d9b2b-5f86-42bc-e854-e4d0d7f464bf"
      },
      "outputs": [
        {
          "output_type": "stream",
          "name": "stdout",
          "text": [
            "data sesudah ditambah = \n",
            "['apel', 'mangga', 'jeruk', 'anggur', 'pisang', 'semangka']\n",
            "data sesudah ditambah = \n",
            "['apel', 'mangga', 'jeruk', 'durian', 'anggur', 'pisang', 'semangka']\n",
            "data setelah dihapus = \n",
            "['apel', 'jeruk', 'durian', 'anggur', 'pisang', 'semangka']\n",
            "data sesudah diubah = \n",
            "['apel', 'jeruk', 'durian', 'anggur', 'nanas', 'semangka']\n",
            "tiga buah pertama \n",
            "['apel', 'jeruk', 'durian']\n"
          ]
        }
      ],
      "source": [
        "#Diberikan list berikut:\n",
        "#buah = ['apel', 'mangga', 'jeruk', 'anggur', 'pisang']\n",
        "#a. Tambahkan 'semangka' di akhir list\n",
        "#b. Sisipkan 'durian' di antara 'jeruk' dan 'anggur'\n",
        "#c. Hapus 'mangga' dari list\n",
        "#d. Ubah 'pisang' menjadi 'nanas'\n",
        "#e. Tampilkan 3 buah pertama\n",
        "\n",
        "#a. tambahkan \"semangka\" di akhir list\n",
        "buah = [\"apel\", \"mangga\", \"jeruk\", \"anggur\", \"pisang\"]\n",
        "buah.append(\"semangka\")\n",
        "print(f\"data sesudah ditambah = \\n{buah}\")\n",
        "\n",
        "#b. Sisipkan 'durian' di antara 'jeruk' dan 'anggur'\n",
        "buah.insert(3,\"durian\")\n",
        "print(f\"data sesudah ditambah = \\n{buah}\")\n",
        "\n",
        "#c. Hapus 'mangga' dari list\n",
        "buah.remove(\"mangga\")\n",
        "print(f\"data setelah dihapus = \\n{buah}\")\n",
        "\n",
        "#d. Ubah 'pisang' menjadi 'nanas'\n",
        "buah[4] = \"nanas\"\n",
        "print(f\"data sesudah diubah = \\n{buah}\")\n",
        "\n",
        "#e. Tampilkan 3 buah pertama\n",
        "tiga_buah_pertama = buah[:3]\n",
        "print(f\"tiga buah pertama \\n{tiga_buah_pertama}\")"
      ]
    },
    {
      "cell_type": "code",
      "source": [
        "#Diberikan list berikut:\n",
        "#angka = [45, 12, 78, 23, 56, 89, 34]\n",
        "#a. Urutkan list secara ascending (dari yang terkecil)\n",
        "#b. Urutkan list secara descending (dari yang terbesar)\n",
        "\n",
        "#a. urutkan list secara ascending\n",
        "data = [45, 12, 78, 23, 56, 89, 34]\n",
        "data.sort()\n",
        "print(f\"urutan data secara ascending = \\n{data}\")\n",
        "\n",
        "#b. Urutkan list secara descending (dari yang terbesar)\n",
        "data.reverse()\n",
        "print(f\"urutan data secara descending = \\n{data}\")"
      ],
      "metadata": {
        "colab": {
          "base_uri": "https://localhost:8080/"
        },
        "id": "hKBiErBNbkAE",
        "outputId": "56ec7d88-5a1d-49bc-a862-8da19b1dda5a"
      },
      "execution_count": 11,
      "outputs": [
        {
          "output_type": "stream",
          "name": "stdout",
          "text": [
            "urutan data secara ascending = \n",
            "[12, 23, 34, 45, 56, 78, 89]\n",
            "urutan data secara descending = \n",
            "[89, 78, 56, 45, 34, 23, 12]\n"
          ]
        }
      ]
    },
    {
      "cell_type": "code",
      "source": [],
      "metadata": {
        "id": "x7bEJwzUgrqX"
      },
      "execution_count": null,
      "outputs": []
    }
  ]
}